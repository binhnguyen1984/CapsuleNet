{
  "nbformat": 4,
  "nbformat_minor": 0,
  "metadata": {
    "accelerator": "GPU",
    "colab": {
      "name": "Untitled77 (1).ipynb",
      "provenance": [],
      "collapsed_sections": [],
      "include_colab_link": true
    },
    "kernelspec": {
      "display_name": "Python 3",
      "language": "python",
      "name": "python3"
    },
    "language_info": {
      "codemirror_mode": {
        "name": "ipython",
        "version": 3
      },
      "file_extension": ".py",
      "mimetype": "text/x-python",
      "name": "python",
      "nbconvert_exporter": "python",
      "pygments_lexer": "ipython3",
      "version": "3.7.9"
    }
  },
  "cells": [
    {
      "cell_type": "markdown",
      "metadata": {
        "id": "view-in-github",
        "colab_type": "text"
      },
      "source": [
        "<a href=\"https://colab.research.google.com/github/binhnguyen1984/CapsuleNet/blob/main/Untitled77_(1).ipynb\" target=\"_parent\"><img src=\"https://colab.research.google.com/assets/colab-badge.svg\" alt=\"Open In Colab\"/></a>"
      ]
    },
    {
      "cell_type": "markdown",
      "metadata": {
        "id": "26BVUiTdgqUA"
      },
      "source": [
        "# **HackerEarth Deep Learning Challenge: 'Tis STILL the season to be jolly**"
      ]
    },
    {
      "cell_type": "markdown",
      "metadata": {
        "id": "gYQ5rWK_7dhx"
      },
      "source": [
        "### loading necessary libraries\n"
      ]
    },
    {
      "cell_type": "code",
      "metadata": {
        "id": "UXsYk4ycwcQ1"
      },
      "source": [
        "#loading necessary libraries\n",
        "import numpy as np\n",
        "import pandas as pd\n",
        "import tensorflow as tf\n",
        "from keras.preprocessing import image\n",
        "from keras.preprocessing.image import ImageDataGenerator\n",
        "from keras.layers import Dense\n",
        "from keras.models import Model\n",
        "import osa\n",
        "import cv2"
      ],
      "execution_count": null,
      "outputs": []
    },
    {
      "cell_type": "code",
      "metadata": {
        "colab": {
          "base_uri": "https://localhost:8080/",
          "height": 195
        },
        "id": "NjjQNQ0pxtRE",
        "outputId": "1d2f614b-cd9d-440f-ed6d-f390881c972a"
      },
      "source": [
        "df_train = pd.read_csv('/content/gdrive/MyDrive/dataset/train.csv')\n",
        "df_train.head()"
      ],
      "execution_count": null,
      "outputs": [
        {
          "output_type": "execute_result",
          "data": {
            "text/html": [
              "<div>\n",
              "<style scoped>\n",
              "    .dataframe tbody tr th:only-of-type {\n",
              "        vertical-align: middle;\n",
              "    }\n",
              "\n",
              "    .dataframe tbody tr th {\n",
              "        vertical-align: top;\n",
              "    }\n",
              "\n",
              "    .dataframe thead th {\n",
              "        text-align: right;\n",
              "    }\n",
              "</style>\n",
              "<table border=\"1\" class=\"dataframe\">\n",
              "  <thead>\n",
              "    <tr style=\"text-align: right;\">\n",
              "      <th></th>\n",
              "      <th>Image</th>\n",
              "      <th>Class</th>\n",
              "    </tr>\n",
              "  </thead>\n",
              "  <tbody>\n",
              "    <tr>\n",
              "      <th>0</th>\n",
              "      <td>image3476.jpg</td>\n",
              "      <td>Miscellaneous</td>\n",
              "    </tr>\n",
              "    <tr>\n",
              "      <th>1</th>\n",
              "      <td>image5198.jpg</td>\n",
              "      <td>Candle</td>\n",
              "    </tr>\n",
              "    <tr>\n",
              "      <th>2</th>\n",
              "      <td>image4183.jpg</td>\n",
              "      <td>Snowman</td>\n",
              "    </tr>\n",
              "    <tr>\n",
              "      <th>3</th>\n",
              "      <td>image1806.jpg</td>\n",
              "      <td>Miscellaneous</td>\n",
              "    </tr>\n",
              "    <tr>\n",
              "      <th>4</th>\n",
              "      <td>image7831.jpg</td>\n",
              "      <td>Miscellaneous</td>\n",
              "    </tr>\n",
              "  </tbody>\n",
              "</table>\n",
              "</div>"
            ],
            "text/plain": [
              "           Image          Class\n",
              "0  image3476.jpg  Miscellaneous\n",
              "1  image5198.jpg         Candle\n",
              "2  image4183.jpg        Snowman\n",
              "3  image1806.jpg  Miscellaneous\n",
              "4  image7831.jpg  Miscellaneous"
            ]
          },
          "metadata": {
            "tags": []
          },
          "execution_count": 4
        }
      ]
    },
    {
      "cell_type": "markdown",
      "metadata": {
        "id": "gljx1MG57dh_"
      },
      "source": [
        "### number of training classes"
      ]
    },
    {
      "cell_type": "code",
      "metadata": {
        "colab": {
          "base_uri": "https://localhost:8080/"
        },
        "id": "BbpAPIwoC3aR",
        "outputId": "f493038b-2fa0-4d85-e4bf-e4ecb3347be6"
      },
      "source": [
        "# number of training classes\n",
        "df_train['Class'].value_counts()"
      ],
      "execution_count": null,
      "outputs": [
        {
          "output_type": "execute_result",
          "data": {
            "text/plain": [
              "Miscellaneous     2801\n",
              "Christmas_Tree    1539\n",
              "Jacket             640\n",
              "Candle             593\n",
              "Airplane           535\n",
              "Snowman            361\n",
              "Name: Class, dtype: int64"
            ]
          },
          "metadata": {
            "tags": []
          },
          "execution_count": 5
        }
      ]
    },
    {
      "cell_type": "markdown",
      "metadata": {
        "id": "ScTyQZzr7diC"
      },
      "source": [
        "### training data augmentation"
      ]
    },
    {
      "cell_type": "code",
      "metadata": {
        "colab": {
          "base_uri": "https://localhost:8080/"
        },
        "id": "cjQ38psmDiNX",
        "outputId": "89276867-3939-48d0-fc0b-9be11d7f71f1"
      },
      "source": [
        "# training data augmentation\n",
        "train_datagen = ImageDataGenerator(rescale=1./255,\n",
        "         shear_range=0.2,\n",
        "         zoom_range=0.2,\n",
        "         horizontal_flip=True,\n",
        "         width_shift_range=0.2,\n",
        "         height_shift_range=0.2)\n",
        "\n",
        "train_generator=train_datagen.flow_from_dataframe(dataframe=df_train,\n",
        "                                            directory=\"/content/gdrive/MyDrive/dataset/train/\",\n",
        "                                            x_col=\"Image\",\n",
        "                                            y_col=\"Class\",\n",
        "                                            batch_size=128,\n",
        "                                            seed=42,\n",
        "                                            shuffle=True,\n",
        "                                            class_mode=\"categorical\",\n",
        "                                            target_size=(299,299))"
      ],
      "execution_count": null,
      "outputs": [
        {
          "output_type": "stream",
          "text": [
            "Found 6469 validated image filenames belonging to 6 classes.\n"
          ],
          "name": "stdout"
        }
      ]
    },
    {
      "cell_type": "markdown",
      "metadata": {
        "id": "pFeSHdvS7diF"
      },
      "source": [
        "### loading pre-trained models"
      ]
    },
    {
      "cell_type": "code",
      "metadata": {
        "id": "KBJsz25REFwX"
      },
      "source": [
        "#loading pre-trained models\n",
        "res = tf.keras.applications.InceptionResNetV2(\n",
        "    include_top=True,\n",
        "    weights=\"imagenet\"\n",
        ")"
      ],
      "execution_count": null,
      "outputs": []
    },
    {
      "cell_type": "code",
      "metadata": {
        "id": "TXX44J_LETyJ"
      },
      "source": [
        "x = res.layers[-2].output\n",
        "fc = Dense(1024,activation='relu')(x)\n",
        "fc = Dense(512,activation='relu')(fc)\n",
        "fc = Dense(256,activation='relu')(fc)\n",
        "fc = Dense(6,activation='softmax')(fc)"
      ],
      "execution_count": null,
      "outputs": []
    },
    {
      "cell_type": "markdown",
      "metadata": {
        "id": "s0-moesw7diJ"
      },
      "source": [
        "### created final models\n"
      ]
    },
    {
      "cell_type": "code",
      "metadata": {
        "id": "NcBkBVV-7diL"
      },
      "source": [
        "# created final models\n",
        "model = Model(inputs=res.input,outputs=fc)\n",
        "model.summary()"
      ],
      "execution_count": null,
      "outputs": []
    },
    {
      "cell_type": "markdown",
      "metadata": {
        "id": "ugV2p8YG7diM"
      },
      "source": [
        "### freezing all the layers"
      ]
    },
    {
      "cell_type": "code",
      "metadata": {
        "id": "0hk1zehFEfbQ"
      },
      "source": [
        "#freezing all the layers\n",
        "for layer in model.layers[:-16]:\n",
        "    #print(l)\n",
        "    layer.trainable = False"
      ],
      "execution_count": null,
      "outputs": []
    },
    {
      "cell_type": "markdown",
      "metadata": {
        "id": "zc46EV2c7diN"
      },
      "source": [
        "### compiling model"
      ]
    },
    {
      "cell_type": "code",
      "metadata": {
        "id": "qvTnozBM0ON1"
      },
      "source": [
        "#compiling model\n",
        "model.compile(optimizer='adam',loss =\"categorical_crossentropy\",metrics=[\"accuracy\"])"
      ],
      "execution_count": null,
      "outputs": []
    },
    {
      "cell_type": "markdown",
      "metadata": {
        "id": "JSDLfB767diP"
      },
      "source": [
        "### training model"
      ]
    },
    {
      "cell_type": "code",
      "metadata": {
        "colab": {
          "base_uri": "https://localhost:8080/"
        },
        "id": "pKxTjeftEsIB",
        "outputId": "15962f0c-2c89-496a-dc4c-deb6671db0d6"
      },
      "source": [
        "history = model.fit_generator(train_generator, epochs=4)"
      ],
      "execution_count": null,
      "outputs": [
        {
          "output_type": "stream",
          "text": [
            "/usr/local/lib/python3.6/dist-packages/tensorflow/python/keras/engine/training.py:1844: UserWarning: `Model.fit_generator` is deprecated and will be removed in a future version. Please use `Model.fit`, which supports generators.\n",
            "  warnings.warn('`Model.fit_generator` is deprecated and '\n"
          ],
          "name": "stderr"
        },
        {
          "output_type": "stream",
          "text": [
            "Epoch 1/4\n",
            "51/51 [==============================] - 149s 3s/step - loss: 0.8119 - accuracy: 0.6991\n",
            "Epoch 2/4\n",
            "51/51 [==============================] - 136s 3s/step - loss: 0.3019 - accuracy: 0.8932\n",
            "Epoch 3/4\n",
            "51/51 [==============================] - 136s 3s/step - loss: 0.2375 - accuracy: 0.9126\n",
            "Epoch 4/4\n",
            "51/51 [==============================] - 137s 3s/step - loss: 0.2188 - accuracy: 0.9243\n"
          ],
          "name": "stdout"
        }
      ]
    },
    {
      "cell_type": "code",
      "metadata": {
        "id": "MWC0WFp08fWw"
      },
      "source": [
        "classes = train_generator.class_indices"
      ],
      "execution_count": null,
      "outputs": []
    },
    {
      "cell_type": "code",
      "metadata": {
        "id": "vqS40VxrFAlR"
      },
      "source": [
        "classes = dict((v,k) for k,v in classes.items())\n",
        "classes = [classes[k] for k in classes]"
      ],
      "execution_count": null,
      "outputs": []
    },
    {
      "cell_type": "code",
      "metadata": {
        "id": "rMGqHobTGWRg"
      },
      "source": [
        "Image = []\n",
        "prediction = []\n",
        "\n",
        "\n",
        "for i, file in enumerate(os.listdir('/content/gdrive/MyDrive/dataset/Test/test/')):\n",
        "    Image.append(file)\n",
        "    file = '/content/gdrive/MyDrive/dataset/Test/test/' + file\n",
        "\n",
        "    img = image.load_img(file, target_size=(299,299,3)) \n",
        "    img = image.img_to_array(img)\n",
        "    img = img/255\n",
        "    pred = model.predict(img.reshape(1,299,299,3))\n",
        "\n",
        "    prediction.append(classes[np.argmax(pred[0])])"
      ],
      "execution_count": null,
      "outputs": []
    },
    {
      "cell_type": "markdown",
      "metadata": {
        "id": "CJM1RxIc7diV"
      },
      "source": [
        "### submission file creation"
      ]
    },
    {
      "cell_type": "code",
      "metadata": {
        "colab": {
          "base_uri": "https://localhost:8080/",
          "height": 195
        },
        "id": "q2ONuk0kXVOz",
        "outputId": "42e2bfae-520e-44c5-c4c7-a88902a1bd32"
      },
      "source": [
        "# submission file creation\n",
        "data=pd.DataFrame((zip(Image, prediction)),columns=['Image','Class'])\n",
        "data.head()"
      ],
      "execution_count": null,
      "outputs": [
        {
          "output_type": "execute_result",
          "data": {
            "text/html": [
              "<div>\n",
              "<style scoped>\n",
              "    .dataframe tbody tr th:only-of-type {\n",
              "        vertical-align: middle;\n",
              "    }\n",
              "\n",
              "    .dataframe tbody tr th {\n",
              "        vertical-align: top;\n",
              "    }\n",
              "\n",
              "    .dataframe thead th {\n",
              "        text-align: right;\n",
              "    }\n",
              "</style>\n",
              "<table border=\"1\" class=\"dataframe\">\n",
              "  <thead>\n",
              "    <tr style=\"text-align: right;\">\n",
              "      <th></th>\n",
              "      <th>Image</th>\n",
              "      <th>Class</th>\n",
              "    </tr>\n",
              "  </thead>\n",
              "  <tbody>\n",
              "    <tr>\n",
              "      <th>0</th>\n",
              "      <td>image7674.jpg</td>\n",
              "      <td>Miscellaneous</td>\n",
              "    </tr>\n",
              "    <tr>\n",
              "      <th>1</th>\n",
              "      <td>image6144.jpg</td>\n",
              "      <td>Miscellaneous</td>\n",
              "    </tr>\n",
              "    <tr>\n",
              "      <th>2</th>\n",
              "      <td>image2856.jpg</td>\n",
              "      <td>Miscellaneous</td>\n",
              "    </tr>\n",
              "    <tr>\n",
              "      <th>3</th>\n",
              "      <td>image1916.jpg</td>\n",
              "      <td>Miscellaneous</td>\n",
              "    </tr>\n",
              "    <tr>\n",
              "      <th>4</th>\n",
              "      <td>image8892.jpg</td>\n",
              "      <td>Miscellaneous</td>\n",
              "    </tr>\n",
              "  </tbody>\n",
              "</table>\n",
              "</div>"
            ],
            "text/plain": [
              "           Image          Class\n",
              "0  image7674.jpg  Miscellaneous\n",
              "1  image6144.jpg  Miscellaneous\n",
              "2  image2856.jpg  Miscellaneous\n",
              "3  image1916.jpg  Miscellaneous\n",
              "4  image8892.jpg  Miscellaneous"
            ]
          },
          "metadata": {
            "tags": []
          },
          "execution_count": 36
        }
      ]
    },
    {
      "cell_type": "code",
      "metadata": {
        "id": "0RGStbxkXaYU"
      },
      "source": [
        "data.to_csv('/content/gdrive/MyDrive/jan_submission.csv',index=False)"
      ],
      "execution_count": null,
      "outputs": []
    },
    {
      "cell_type": "markdown",
      "metadata": {
        "id": "lqjs4eB17wVh"
      },
      "source": [
        "Link TO COLAB FILE\r\n",
        "https://colab.research.google.com/drive/1S_kXqrW5KBFUQhzwTIlT-6I-hyTRDWHz?usp=sharing"
      ]
    }
  ]
}